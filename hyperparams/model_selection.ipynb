{
 "cells": [
  {
   "attachments": {},
   "cell_type": "markdown",
   "metadata": {},
   "source": [
    "- the best single model vs. dynamic best (model selection)\n",
    "    - to show that model selection + HT is superior to just HT?\n",
    "    - can skip this if comparing all 4\n",
    "- percentage of wins (across different dimensions, e.g. per dgp, per d, per p, per sem, across all)\n",
    "    - to show that no single algo is the best?\n",
    "- compare the following:\n",
    "    - MS + HT\n",
    "    - just HT (show only the best model?; per single model)\n",
    "    - just MS (default Hs)"
   ]
  },
  {
   "cell_type": "code",
   "execution_count": null,
   "metadata": {},
   "outputs": [],
   "source": []
  }
 ],
 "metadata": {
  "language_info": {
   "name": "python"
  },
  "orig_nbformat": 4
 },
 "nbformat": 4,
 "nbformat_minor": 2
}
