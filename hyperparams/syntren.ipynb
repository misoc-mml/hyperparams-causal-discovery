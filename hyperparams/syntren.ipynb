{
 "cells": [
  {
   "cell_type": "code",
   "execution_count": 1,
   "metadata": {},
   "outputs": [],
   "source": [
    "import pandas as pd\n",
    "import seaborn as sns\n",
    "import matplotlib.pyplot as plt\n",
    "import json"
   ]
  },
  {
   "cell_type": "code",
   "execution_count": 10,
   "metadata": {},
   "outputs": [],
   "source": [
    "def extract_cols(df):\n",
    "    df['seed'] = df['data'].apply(lambda x: int(x.split('/')[1].split('.')[0].split('_')[-1]))\n",
    "    return df\n",
    "\n",
    "def best_all(df, params):\n",
    "    df['hyper_id'] = df.groupby(params, dropna=False).ngroup()\n",
    "    gr = df.groupby(['hyper_id'])['SHD_pattern'].agg(['mean', 'sem']).reset_index()\n",
    "\n",
    "    hyper_id_sel = gr.loc[gr['mean'].idxmin(), 'hyper_id']\n",
    "    df['hyper_id_sel'] = hyper_id_sel\n",
    "\n",
    "    df2 = df.loc[df['hyper_id'] == df['hyper_id_sel']]\n",
    "    df3 = df2['SHD_pattern'].agg(['mean', 'sem'])\n",
    "\n",
    "    return df3\n",
    "\n",
    "def best_h(df):\n",
    "    return extract_cols(df).groupby(['id', 'seed'], as_index=False).apply(lambda x: x.loc[x['SHD_pattern'].idxmin()])\n",
    "\n",
    "def worst_h(df):\n",
    "    return extract_cols(df).groupby(['id', 'seed'], as_index=False).apply(lambda x: x.loc[x['SHD_pattern'].idxmax()])"
   ]
  },
  {
   "cell_type": "code",
   "execution_count": 29,
   "metadata": {},
   "outputs": [
    {
     "name": "stdout",
     "output_type": "stream",
     "text": [
      "pcalg_pc\n",
      "tetrad_fges\n",
      "tetrad_fci\n",
      "gcastle_ica_lingam\n",
      "gcastle_anm\n",
      "cdt_cam\n",
      "gcastle_notears\n",
      "gcastle_notears_nonlinear\n"
     ]
    }
   ],
   "source": [
    "with open('../config/algos_repo.json', 'r') as f:\n",
    "    config = json.load(f)\n",
    "\n",
    "algs = []\n",
    "\n",
    "obj = config['resources']['structure_learning_algorithms']\n",
    "for alg in obj:\n",
    "    try:\n",
    "        df = pd.read_csv(f'./results/syntren/{alg}.csv')\n",
    "    except:\n",
    "        continue\n",
    "\n",
    "    print(alg)\n",
    "    params = list(obj[alg][0].keys())\n",
    "\n",
    "    df_def = best_all(df, params)\n",
    "    df_def['id'] = df['id'].unique()[0]\n",
    "    algs.append(df_def)\n",
    "    \n",
    "df_defs = pd.DataFrame(algs)\n",
    "\n",
    "bench_all = pd.read_csv('./results/syntren/joint_benchmarks.csv', index_col=0)\n",
    "df_best = best_h(bench_all).groupby(['id'], as_index=False)['SHD_pattern'].agg(['mean', 'sem']).reset_index()\n",
    "df_worst = worst_h(bench_all).groupby(['id'], as_index=False)['SHD_pattern'].agg(['mean', 'sem']).reset_index()"
   ]
  },
  {
   "cell_type": "markdown",
   "metadata": {},
   "source": [
    "## Plots"
   ]
  },
  {
   "cell_type": "code",
   "execution_count": 21,
   "metadata": {},
   "outputs": [],
   "source": [
    "df_best_plt = df_best.rename(columns={'mean': 'SHD'}).drop(columns=['sem'])\n",
    "df_best_plt['quality'] = 'best'\n",
    "\n",
    "df_worst_plt = df_worst.rename(columns={'mean': 'SHD'}).drop(columns=['sem'])\n",
    "df_worst_plt['quality'] = 'worst'\n",
    "\n",
    "df_defs_plt = df_defs.rename(columns={'mean': 'SHD'}).drop(columns=['sem'])\n",
    "df_defs_plt['quality'] = 'default'\n",
    "\n",
    "df_final = pd.concat([df_best_plt, df_defs_plt, df_worst_plt], axis=0)"
   ]
  },
  {
   "cell_type": "code",
   "execution_count": 22,
   "metadata": {},
   "outputs": [
    {
     "data": {
      "text/plain": [
       "<seaborn.axisgrid.FacetGrid at 0x7f39fa0023a0>"
      ]
     },
     "execution_count": 22,
     "metadata": {},
     "output_type": "execute_result"
    },
    {
     "data": {
      "image/png": "[encoded data removed]",
      "text/plain": [
       "<Figure size 431.375x360 with 1 Axes>"
      ]
     },
     "metadata": {
      "needs_background": "light"
     },
     "output_type": "display_data"
    }
   ],
   "source": [
    "sns.catplot(data=df_final, x='id', y='SHD', hue='quality', kind='bar', ci=None)"
   ]
  },
  {
   "cell_type": "markdown",
   "metadata": {},
   "source": [
    "## Tables"
   ]
  },
  {
   "cell_type": "code",
   "execution_count": 31,
   "metadata": {},
   "outputs": [],
   "source": [
    "df_best['best'] = df_best.apply(lambda x: f\"{x['mean']} ({x['sem']:.2f})\", axis=1)\n",
    "df_best.drop(columns=['sem'], inplace=True)\n",
    "\n",
    "df_defs['default'] = df_defs.apply(lambda x: f\"{x['mean']} ({x['sem']:.2f})\", axis=1)\n",
    "df_defs.drop(columns=['sem'], inplace=True)\n",
    "\n",
    "df_worst['worst'] = df_worst.apply(lambda x: f\"{x['mean']} ({x['sem']:.2f})\", axis=1)\n",
    "df_worst.drop(columns=['sem'], inplace=True)\n",
    "\n",
    "merge_key = ['id']\n",
    "df_final = df_best.merge(df_defs, on=merge_key).merge(df_worst, on=merge_key)\n",
    "\n",
    "df_final['id'] = df_final.apply(lambda x: x['id'].upper(), axis=1)\n",
    "df_final.set_index('id', inplace=True)"
   ]
  },
  {
   "cell_type": "code",
   "execution_count": 32,
   "metadata": {},
   "outputs": [
    {
     "data": {
      "text/html": [
       "<div>\n",
       "<style scoped>\n",
       "    .dataframe tbody tr th:only-of-type {\n",
       "        vertical-align: middle;\n",
       "    }\n",
       "\n",
       "    .dataframe tbody tr th {\n",
       "        vertical-align: top;\n",
       "    }\n",
       "\n",
       "    .dataframe thead th {\n",
       "        text-align: right;\n",
       "    }\n",
       "</style>\n",
       "<table border=\"1\" class=\"dataframe\">\n",
       "  <thead>\n",
       "    <tr style=\"text-align: right;\">\n",
       "      <th></th>\n",
       "      <th>best</th>\n",
       "      <th>default</th>\n",
       "      <th>worst</th>\n",
       "    </tr>\n",
       "    <tr>\n",
       "      <th>id</th>\n",
       "      <th></th>\n",
       "      <th></th>\n",
       "      <th></th>\n",
       "    </tr>\n",
       "  </thead>\n",
       "  <tbody>\n",
       "    <tr>\n",
       "      <th>ANM</th>\n",
       "      <td>33.5 (3.79)</td>\n",
       "      <td>38.3 (4.09)</td>\n",
       "      <td>49.2 (4.64)</td>\n",
       "    </tr>\n",
       "    <tr>\n",
       "      <th>CAM</th>\n",
       "      <td>40.9 (2.49)</td>\n",
       "      <td>41.0 (2.47)</td>\n",
       "      <td>80.2 (2.11)</td>\n",
       "    </tr>\n",
       "    <tr>\n",
       "      <th>FCI</th>\n",
       "      <td>39.3 (1.69)</td>\n",
       "      <td>39.9 (1.63)</td>\n",
       "      <td>58.9 (2.83)</td>\n",
       "    </tr>\n",
       "    <tr>\n",
       "      <th>FGES</th>\n",
       "      <td>46.4 (1.93)</td>\n",
       "      <td>46.5 (1.85)</td>\n",
       "      <td>81.6 (3.52)</td>\n",
       "    </tr>\n",
       "    <tr>\n",
       "      <th>LINGAM</th>\n",
       "      <td>24.5 (1.96)</td>\n",
       "      <td>25.1 (1.97)</td>\n",
       "      <td>101.2 (5.52)</td>\n",
       "    </tr>\n",
       "    <tr>\n",
       "      <th>NOTEARS</th>\n",
       "      <td>22.8 (1.33)</td>\n",
       "      <td>23.5 (1.32)</td>\n",
       "      <td>140.8 (2.17)</td>\n",
       "    </tr>\n",
       "    <tr>\n",
       "      <th>NOTEARS_MLP</th>\n",
       "      <td>22.1 (1.40)</td>\n",
       "      <td>23.4 (1.30)</td>\n",
       "      <td>131.2 (8.37)</td>\n",
       "    </tr>\n",
       "    <tr>\n",
       "      <th>PC</th>\n",
       "      <td>37.8 (1.55)</td>\n",
       "      <td>38.4 (1.72)</td>\n",
       "      <td>57.3 (2.74)</td>\n",
       "    </tr>\n",
       "  </tbody>\n",
       "</table>\n",
       "</div>"
      ],
      "text/plain": [
       "                    best      default         worst\n",
       "id                                                 \n",
       "ANM          33.5 (3.79)  38.3 (4.09)   49.2 (4.64)\n",
       "CAM          40.9 (2.49)  41.0 (2.47)   80.2 (2.11)\n",
       "FCI          39.3 (1.69)  39.9 (1.63)   58.9 (2.83)\n",
       "FGES         46.4 (1.93)  46.5 (1.85)   81.6 (3.52)\n",
       "LINGAM       24.5 (1.96)  25.1 (1.97)  101.2 (5.52)\n",
       "NOTEARS      22.8 (1.33)  23.5 (1.32)  140.8 (2.17)\n",
       "NOTEARS_MLP  22.1 (1.40)  23.4 (1.30)  131.2 (8.37)\n",
       "PC           37.8 (1.55)  38.4 (1.72)   57.3 (2.74)"
      ]
     },
     "execution_count": 32,
     "metadata": {},
     "output_type": "execute_result"
    }
   ],
   "source": [
    "df_final[['best', 'default', 'worst']]"
   ]
  },
  {
   "cell_type": "markdown",
   "metadata": {},
   "source": [
    "## Distributions"
   ]
  },
  {
   "cell_type": "code",
   "execution_count": 33,
   "metadata": {},
   "outputs": [],
   "source": [
    "df = pd.read_csv('./results/syntren/joint_benchmarks.csv', index_col=0)\n",
    "\n",
    "algs = df['id'].unique()\n",
    "algs.sort()"
   ]
  },
  {
   "cell_type": "code",
   "execution_count": 65,
   "metadata": {},
   "outputs": [
    {
     "data": {
      "image/png": "[encoded data removed]",
      "text/plain": [
       "<Figure size 1440x720 with 8 Axes>"
      ]
     },
     "metadata": {
      "needs_background": "light"
     },
     "output_type": "display_data"
    }
   ],
   "source": [
    "fig, axes = plt.subplots(2, 4, figsize=(20, 10))\n",
    "axes = axes.flatten()\n",
    "for ax, alg in zip(axes, algs):\n",
    "    ax.set_title(alg.upper())\n",
    "    ax.set_xlabel('SHD')\n",
    "    ax.set_ylabel(' ')\n",
    "    sns.histplot(df.loc[df['id'] == alg, 'SHD_pattern'], ax=ax, stat='probability')"
   ]
  },
  {
   "cell_type": "code",
   "execution_count": 66,
   "metadata": {},
   "outputs": [
    {
     "data": {
      "text/plain": [
       "<AxesSubplot:xlabel='SHD_pattern', ylabel='id'>"
      ]
     },
     "execution_count": 66,
     "metadata": {},
     "output_type": "execute_result"
    },
    {
     "data": {
      "image/png": "[encoded data removed]",
      "text/plain": [
       "<Figure size 432x288 with 1 Axes>"
      ]
     },
     "metadata": {
      "needs_background": "light"
     },
     "output_type": "display_data"
    }
   ],
   "source": [
    "sns.histplot(df, x='SHD_pattern', y='id', hue='id', legend=False)"
   ]
  }
 ],
 "metadata": {
  "kernelspec": {
   "display_name": "tf-gpu",
   "language": "python",
   "name": "python3"
  },
  "language_info": {
   "codemirror_mode": {
    "name": "ipython",
    "version": 3
   },
   "file_extension": ".py",
   "mimetype": "text/x-python",
   "name": "python",
   "nbconvert_exporter": "python",
   "pygments_lexer": "ipython3",
   "version": "3.9.7"
  },
  "orig_nbformat": 4
 },
 "nbformat": 4,
 "nbformat_minor": 2
}
