{
 "cells": [
  {
   "cell_type": "markdown",
   "metadata": {},
   "source": [
    "normalise SHD per DGP and algorithm so we can compare SHD distributions across different DGPs"
   ]
  },
  {
   "cell_type": "code",
   "execution_count": null,
   "metadata": {},
   "outputs": [],
   "source": []
  }
 ],
 "metadata": {
  "language_info": {
   "name": "python"
  },
  "orig_nbformat": 4
 },
 "nbformat": 4,
 "nbformat_minor": 2
}
