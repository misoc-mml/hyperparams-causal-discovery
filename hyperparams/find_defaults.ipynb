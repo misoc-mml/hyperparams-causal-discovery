{
 "cells": [
  {
   "cell_type": "code",
   "execution_count": 21,
   "metadata": {},
   "outputs": [],
   "source": [
    "import pandas as pd\n",
    "import utils as ut\n",
    "import json\n",
    "import os\n",
    "\n",
    "from IPython.display import display"
   ]
  },
  {
   "cell_type": "code",
   "execution_count": 17,
   "metadata": {},
   "outputs": [
    {
     "name": "stderr",
     "output_type": "stream",
     "text": [
      "/home/damian/code/benchpress-dm/hyperparams/utils.py:36: SettingWithCopyWarning: \n",
      "A value is trying to be set on a copy of a slice from a DataFrame.\n",
      "Try using .loc[row_indexer,col_indexer] = value instead\n",
      "\n",
      "See the caveats in the documentation: https://pandas.pydata.org/pandas-docs/stable/user_guide/indexing.html#returning-a-view-versus-a-copy\n",
      "  df_def['id'] = df['id'].unique()[0]\n"
     ]
    }
   ],
   "source": [
    "alg_path = '../config/algos_repo.json'\n",
    "res_path = './results/sim'\n",
    "\n",
    "df_def = ut.def_h(alg_path, res_path)\n",
    "df_def['id'] = df_def.apply(lambda x: x['id'].upper(), axis=1)"
   ]
  },
  {
   "cell_type": "code",
   "execution_count": 37,
   "metadata": {},
   "outputs": [],
   "source": [
    "with open(alg_path, 'r') as f:\n",
    "    config = json.load(f)\n",
    "\n",
    "df_defs = None\n",
    "\n",
    "obj = config['resources']['structure_learning_algorithms']\n",
    "for alg in obj:\n",
    "    try:\n",
    "        df = pd.read_csv(f'{os.path.join(res_path, alg)}.csv')\n",
    "    except:\n",
    "        continue\n",
    "\n",
    "    params = list(obj[alg][0].keys())\n",
    "    id = df['id'].unique()[0]\n",
    "    id_up = id.upper()\n",
    "\n",
    "    #display(df_def.loc[df_def['id'] == id_up, params].iloc[:1])\n",
    "    df_def.loc[df_def['id'] == id_up, params].iloc[:1].to_csv(f'./results/defaults/{id}.csv', index=False)"
   ]
  }
 ],
 "metadata": {
  "kernelspec": {
   "display_name": "tf-gpu",
   "language": "python",
   "name": "python3"
  },
  "language_info": {
   "codemirror_mode": {
    "name": "ipython",
    "version": 3
   },
   "file_extension": ".py",
   "mimetype": "text/x-python",
   "name": "python",
   "nbconvert_exporter": "python",
   "pygments_lexer": "ipython3",
   "version": "3.9.7"
  },
  "orig_nbformat": 4
 },
 "nbformat": 4,
 "nbformat_minor": 2
}
