{
 "cells": [
  {
   "cell_type": "code",
   "execution_count": 1,
   "metadata": {},
   "outputs": [],
   "source": [
    "import pandas as pd\n",
    "import seaborn as sns\n",
    "import matplotlib.pyplot as plt\n",
    "\n",
    "import utils as ut\n",
    "\n",
    "import matplotlib.pylab as pylab\n",
    "\n",
    "params = {'axes.titlesize': 12,\n",
    "          'font.size': 12}\n",
    "pylab.rcParams.update(params)"
   ]
  },
  {
   "cell_type": "code",
   "execution_count": 2,
   "metadata": {},
   "outputs": [
    {
     "name": "stderr",
     "output_type": "stream",
     "text": [
      "/home/damian/miniconda3/envs/tf-gpu/lib/python3.9/site-packages/IPython/core/interactiveshell.py:3457: DtypeWarning: Columns (24,26,27,28,29,33,34,39,41,42,43,44,45,47,48,57,58,59,61,62) have mixed types.Specify dtype option on import or set low_memory=False.\n",
      "  exec(code_obj, self.user_global_ns, self.user_ns)\n"
     ]
    }
   ],
   "source": [
    "bench_all = pd.read_csv('./results/sim/joint_benchmarks.csv', index_col=0)\n",
    "bench_all['id'] = bench_all.apply(lambda x: x['id'].upper(), axis=1)\n",
    "\n",
    "df_card = pd.read_csv('./results/hparam_card.csv')\n",
    "df_card['id'] = df_card.apply(lambda x: x['id'].upper(), axis=1)\n",
    "\n",
    "bench_all = bench_all.merge(df_card, on='id')"
   ]
  },
  {
   "cell_type": "code",
   "execution_count": 3,
   "metadata": {},
   "outputs": [],
   "source": [
    "def get_best_worst(df, metric):\n",
    "    df_best = ut.best_h(df, metric)\n",
    "    df_worst = ut.worst_h(df, metric)\n",
    "    df_best['quality'] = 'best'\n",
    "    df_worst['quality'] = 'worst'\n",
    "\n",
    "    df_final = pd.concat([df_best, df_worst], axis=0)\n",
    "    df_final = df_final.reset_index()\n",
    "\n",
    "    return df_final"
   ]
  },
  {
   "cell_type": "code",
   "execution_count": 4,
   "metadata": {},
   "outputs": [],
   "source": [
    "df_shd = get_best_worst(bench_all, 'SHD_pattern')\n",
    "df_fp = get_best_worst(bench_all, 'FP_skel')\n",
    "df_fn = get_best_worst(bench_all, 'FN_skel')"
   ]
  },
  {
   "cell_type": "markdown",
   "metadata": {},
   "source": [
    "## Plots"
   ]
  },
  {
   "cell_type": "markdown",
   "metadata": {},
   "source": [
    "### SHD, FP, FN (p=10, d=1)"
   ]
  },
  {
   "cell_type": "code",
   "execution_count": 8,
   "metadata": {},
   "outputs": [
    {
     "data": {
      "image/png": "[encoded data removed]",
      "text/plain": [
       "<Figure size 864x288 with 6 Axes>"
      ]
     },
     "metadata": {
      "needs_background": "light"
     },
     "output_type": "display_data"
    }
   ],
   "source": [
    "fig, axs = plt.subplots(2, 3, sharex='col', sharey=True, figsize=(12, 4))\n",
    "axs = axs.flatten()\n",
    "\n",
    "my_pal = ['C0', 'C3']\n",
    "\n",
    "sem = 'gumbel'\n",
    "ax = axs[0]\n",
    "df_case = df_shd.loc[(df_shd['graph_p'] == 10) & (df_shd['data_sem'] == sem) & (df_shd['graph_d'] == 1)]\n",
    "g = sns.barplot(data=df_case, y='h_card', x='SHD_pattern', hue='quality', orient='h', ax=ax, palette=my_pal)\n",
    "ax.set_title(f'data_sem={sem}')\n",
    "ax.set_xlabel('SHD')\n",
    "ax.set_ylabel('HP card')\n",
    "ax.get_legend().remove()\n",
    "ax.spines[['right', 'top']].set_visible(False)\n",
    "\n",
    "ax = axs[1]\n",
    "df_case = df_fp.loc[(df_fp['graph_p'] == 10) & (df_fp['data_sem'] == sem) & (df_fp['graph_d'] == 1)]\n",
    "g = sns.barplot(data=df_case, y='h_card', x='FP_skel', hue='quality', orient='h', ax=ax, palette=my_pal)\n",
    "ax.set_title(f'data_sem={sem}')\n",
    "ax.set_xlabel('FP')\n",
    "ax.set_ylabel('')\n",
    "ax.get_legend().remove()\n",
    "ax.spines[['right', 'top']].set_visible(False)\n",
    "\n",
    "ax = axs[2]\n",
    "df_case = df_fn.loc[(df_fn['graph_p'] == 10) & (df_fn['data_sem'] == sem) & (df_fn['graph_d'] == 1)]\n",
    "g = sns.barplot(data=df_case, y='h_card', x='FN_skel', hue='quality', orient='h', ax=ax, palette=my_pal)\n",
    "ax.set_title(f'data_sem={sem}')\n",
    "ax.set_xlabel('FN')\n",
    "ax.set_ylabel('')\n",
    "sns.move_legend(ax, loc='center right', bbox_to_anchor=(1.05, 0.75), frameon=False)\n",
    "ax.spines[['right', 'top']].set_visible(False)\n",
    "\n",
    "sem = 'gp'\n",
    "ax = axs[3]\n",
    "df_case = df_shd.loc[(df_shd['graph_p'] == 10) & (df_shd['data_sem'] == sem) & (df_shd['graph_d'] == 1)]\n",
    "g = sns.barplot(data=df_case, y='h_card', x='SHD_pattern', hue='quality', orient='h', ax=ax, palette=my_pal)\n",
    "ax.set_title(f'data_sem={sem}')\n",
    "ax.set_xlabel('SHD')\n",
    "ax.set_ylabel('HP card')\n",
    "ax.get_legend().remove()\n",
    "ax.spines[['right', 'top']].set_visible(False)\n",
    "\n",
    "ax = axs[4]\n",
    "df_case = df_fp.loc[(df_fp['graph_p'] == 10) & (df_fp['data_sem'] == sem) & (df_fp['graph_d'] == 1)]\n",
    "g = sns.barplot(data=df_case, y='h_card', x='FP_skel', hue='quality', orient='h', ax=ax, palette=my_pal)\n",
    "ax.set_title(f'data_sem={sem}')\n",
    "ax.set_xlabel('FP')\n",
    "ax.set_ylabel('')\n",
    "ax.get_legend().remove()\n",
    "ax.spines[['right', 'top']].set_visible(False)\n",
    "\n",
    "ax = axs[5]\n",
    "df_case = df_fn.loc[(df_fn['graph_p'] == 10) & (df_fn['data_sem'] == sem) & (df_fn['graph_d'] == 1)]\n",
    "g = sns.barplot(data=df_case, y='h_card', x='FN_skel', hue='quality', orient='h', ax=ax, palette=my_pal)\n",
    "ax.set_title(f'data_sem={sem}')\n",
    "ax.set_xlabel('FN')\n",
    "ax.set_ylabel('')\n",
    "ax.get_legend().remove()\n",
    "ax.spines[['right', 'top']].set_visible(False)\n",
    "\n",
    "plt.tight_layout()\n",
    "plt.savefig('./plots/card/card_all.pdf', dpi=1000)"
   ]
  }
 ],
 "metadata": {
  "kernelspec": {
   "display_name": "tf-gpu",
   "language": "python",
   "name": "python3"
  },
  "language_info": {
   "codemirror_mode": {
    "name": "ipython",
    "version": 3
   },
   "file_extension": ".py",
   "mimetype": "text/x-python",
   "name": "python",
   "nbconvert_exporter": "python",
   "pygments_lexer": "ipython3",
   "version": "3.9.7"
  }
 },
 "nbformat": 4,
 "nbformat_minor": 2
}
